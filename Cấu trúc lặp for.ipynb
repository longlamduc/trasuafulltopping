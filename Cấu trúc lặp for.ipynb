{
 "cells": [
  {
   "cell_type": "markdown",
   "id": "49c0af0c",
   "metadata": {},
   "source": [
    "# Cấu trúc lặp for trong python"
   ]
  },
  {
   "attachments": {
    "image.png": {
     "image/png": "[encoded data removed]"
    }
   },
   "cell_type": "markdown",
   "id": "e3737568",
   "metadata": {},
   "source": [
    "## Review: Vẽ kim tự tháp\n",
    "![image.png](attachment:image.png)"
   ]
  },
  {
   "cell_type": "code",
   "execution_count": 3,
   "id": "060812dd",
   "metadata": {
    "scrolled": true
   },
   "outputs": [
    {
     "name": "stdout",
     "output_type": "stream",
     "text": [
      "Nhập chiều cao của kim tự tháp:5\n"
     ]
    },
    {
     "ename": "Terminator",
     "evalue": "",
     "output_type": "error",
     "traceback": [
      "\u001b[1;31m---------------------------------------------------------------------------\u001b[0m",
      "\u001b[1;31mTerminator\u001b[0m                                Traceback (most recent call last)",
      "\u001b[1;32m~\\AppData\\Local\\Temp/ipykernel_8384/3143761237.py\u001b[0m in \u001b[0;36m<module>\u001b[1;34m\u001b[0m\n\u001b[0;32m      7\u001b[0m \u001b[1;33m\u001b[0m\u001b[0m\n\u001b[0;32m      8\u001b[0m \u001b[1;32mwhile\u001b[0m \u001b[0mcount\u001b[0m \u001b[1;33m<=\u001b[0m \u001b[0mheight\u001b[0m\u001b[1;33m:\u001b[0m\u001b[1;33m\u001b[0m\u001b[1;33m\u001b[0m\u001b[0m\n\u001b[1;32m----> 9\u001b[1;33m     \u001b[0mpen\u001b[0m\u001b[1;33m.\u001b[0m\u001b[0mcircle\u001b[0m\u001b[1;33m(\u001b[0m\u001b[1;33m-\u001b[0m\u001b[0mcount\u001b[0m \u001b[1;33m*\u001b[0m \u001b[1;36m20\u001b[0m\u001b[1;33m,\u001b[0m \u001b[0msteps\u001b[0m\u001b[1;33m=\u001b[0m\u001b[1;36m3\u001b[0m\u001b[1;33m)\u001b[0m\u001b[1;33m\u001b[0m\u001b[1;33m\u001b[0m\u001b[0m\n\u001b[0m\u001b[0;32m     10\u001b[0m     \u001b[1;31m# count += 1\u001b[0m\u001b[1;33m\u001b[0m\u001b[1;33m\u001b[0m\u001b[1;33m\u001b[0m\u001b[0m\n\u001b[0;32m     11\u001b[0m \u001b[1;33m\u001b[0m\u001b[0m\n",
      "\u001b[1;32mc:\\users\\longl\\appdata\\local\\programs\\python\\python39\\lib\\turtle.py\u001b[0m in \u001b[0;36mcircle\u001b[1;34m(self, radius, extent, steps)\u001b[0m\n\u001b[0;32m   1992\u001b[0m             \u001b[0mself\u001b[0m\u001b[1;33m.\u001b[0m\u001b[0m_go\u001b[0m\u001b[1;33m(\u001b[0m\u001b[0ml\u001b[0m\u001b[1;33m)\u001b[0m\u001b[1;33m\u001b[0m\u001b[1;33m\u001b[0m\u001b[0m\n\u001b[0;32m   1993\u001b[0m             \u001b[0mself\u001b[0m\u001b[1;33m.\u001b[0m\u001b[0mspeed\u001b[0m\u001b[1;33m(\u001b[0m\u001b[1;36m0\u001b[0m\u001b[1;33m)\u001b[0m\u001b[1;33m\u001b[0m\u001b[1;33m\u001b[0m\u001b[0m\n\u001b[1;32m-> 1994\u001b[1;33m             \u001b[0mself\u001b[0m\u001b[1;33m.\u001b[0m\u001b[0m_rotate\u001b[0m\u001b[1;33m(\u001b[0m\u001b[0mw\u001b[0m\u001b[1;33m)\u001b[0m\u001b[1;33m\u001b[0m\u001b[1;33m\u001b[0m\u001b[0m\n\u001b[0m\u001b[0;32m   1995\u001b[0m         \u001b[0mself\u001b[0m\u001b[1;33m.\u001b[0m\u001b[0m_rotate\u001b[0m\u001b[1;33m(\u001b[0m\u001b[1;33m-\u001b[0m\u001b[0mw2\u001b[0m\u001b[1;33m)\u001b[0m\u001b[1;33m\u001b[0m\u001b[1;33m\u001b[0m\u001b[0m\n\u001b[0;32m   1996\u001b[0m         \u001b[1;32mif\u001b[0m \u001b[0mspeed\u001b[0m \u001b[1;33m==\u001b[0m \u001b[1;36m0\u001b[0m\u001b[1;33m:\u001b[0m\u001b[1;33m\u001b[0m\u001b[1;33m\u001b[0m\u001b[0m\n",
      "\u001b[1;32mc:\\users\\longl\\appdata\\local\\programs\\python\\python39\\lib\\turtle.py\u001b[0m in \u001b[0;36m_rotate\u001b[1;34m(self, angle)\u001b[0m\n\u001b[0;32m   3277\u001b[0m                 \u001b[0mself\u001b[0m\u001b[1;33m.\u001b[0m\u001b[0m_update\u001b[0m\u001b[1;33m(\u001b[0m\u001b[1;33m)\u001b[0m\u001b[1;33m\u001b[0m\u001b[1;33m\u001b[0m\u001b[0m\n\u001b[0;32m   3278\u001b[0m         \u001b[0mself\u001b[0m\u001b[1;33m.\u001b[0m\u001b[0m_orient\u001b[0m \u001b[1;33m=\u001b[0m \u001b[0mneworient\u001b[0m\u001b[1;33m\u001b[0m\u001b[1;33m\u001b[0m\u001b[0m\n\u001b[1;32m-> 3279\u001b[1;33m         \u001b[0mself\u001b[0m\u001b[1;33m.\u001b[0m\u001b[0m_update\u001b[0m\u001b[1;33m(\u001b[0m\u001b[1;33m)\u001b[0m\u001b[1;33m\u001b[0m\u001b[1;33m\u001b[0m\u001b[0m\n\u001b[0m\u001b[0;32m   3280\u001b[0m \u001b[1;33m\u001b[0m\u001b[0m\n\u001b[0;32m   3281\u001b[0m     \u001b[1;32mdef\u001b[0m \u001b[0m_newLine\u001b[0m\u001b[1;33m(\u001b[0m\u001b[0mself\u001b[0m\u001b[1;33m,\u001b[0m \u001b[0musePos\u001b[0m\u001b[1;33m=\u001b[0m\u001b[1;32mTrue\u001b[0m\u001b[1;33m)\u001b[0m\u001b[1;33m:\u001b[0m\u001b[1;33m\u001b[0m\u001b[1;33m\u001b[0m\u001b[0m\n",
      "\u001b[1;32mc:\\users\\longl\\appdata\\local\\programs\\python\\python39\\lib\\turtle.py\u001b[0m in \u001b[0;36m_update\u001b[1;34m(self)\u001b[0m\n\u001b[0;32m   2659\u001b[0m             \u001b[1;32mreturn\u001b[0m\u001b[1;33m\u001b[0m\u001b[1;33m\u001b[0m\u001b[0m\n\u001b[0;32m   2660\u001b[0m         \u001b[1;32melif\u001b[0m \u001b[0mscreen\u001b[0m\u001b[1;33m.\u001b[0m\u001b[0m_tracing\u001b[0m \u001b[1;33m==\u001b[0m \u001b[1;36m1\u001b[0m\u001b[1;33m:\u001b[0m\u001b[1;33m\u001b[0m\u001b[1;33m\u001b[0m\u001b[0m\n\u001b[1;32m-> 2661\u001b[1;33m             \u001b[0mself\u001b[0m\u001b[1;33m.\u001b[0m\u001b[0m_update_data\u001b[0m\u001b[1;33m(\u001b[0m\u001b[1;33m)\u001b[0m\u001b[1;33m\u001b[0m\u001b[1;33m\u001b[0m\u001b[0m\n\u001b[0m\u001b[0;32m   2662\u001b[0m             \u001b[0mself\u001b[0m\u001b[1;33m.\u001b[0m\u001b[0m_drawturtle\u001b[0m\u001b[1;33m(\u001b[0m\u001b[1;33m)\u001b[0m\u001b[1;33m\u001b[0m\u001b[1;33m\u001b[0m\u001b[0m\n\u001b[0;32m   2663\u001b[0m             \u001b[0mscreen\u001b[0m\u001b[1;33m.\u001b[0m\u001b[0m_update\u001b[0m\u001b[1;33m(\u001b[0m\u001b[1;33m)\u001b[0m                  \u001b[1;31m# TurtleScreenBase\u001b[0m\u001b[1;33m\u001b[0m\u001b[1;33m\u001b[0m\u001b[0m\n",
      "\u001b[1;32mc:\\users\\longl\\appdata\\local\\programs\\python\\python39\\lib\\turtle.py\u001b[0m in \u001b[0;36m_update_data\u001b[1;34m(self)\u001b[0m\n\u001b[0;32m   2645\u001b[0m \u001b[1;33m\u001b[0m\u001b[0m\n\u001b[0;32m   2646\u001b[0m     \u001b[1;32mdef\u001b[0m \u001b[0m_update_data\u001b[0m\u001b[1;33m(\u001b[0m\u001b[0mself\u001b[0m\u001b[1;33m)\u001b[0m\u001b[1;33m:\u001b[0m\u001b[1;33m\u001b[0m\u001b[1;33m\u001b[0m\u001b[0m\n\u001b[1;32m-> 2647\u001b[1;33m         \u001b[0mself\u001b[0m\u001b[1;33m.\u001b[0m\u001b[0mscreen\u001b[0m\u001b[1;33m.\u001b[0m\u001b[0m_incrementudc\u001b[0m\u001b[1;33m(\u001b[0m\u001b[1;33m)\u001b[0m\u001b[1;33m\u001b[0m\u001b[1;33m\u001b[0m\u001b[0m\n\u001b[0m\u001b[0;32m   2648\u001b[0m         \u001b[1;32mif\u001b[0m \u001b[0mself\u001b[0m\u001b[1;33m.\u001b[0m\u001b[0mscreen\u001b[0m\u001b[1;33m.\u001b[0m\u001b[0m_updatecounter\u001b[0m \u001b[1;33m!=\u001b[0m \u001b[1;36m0\u001b[0m\u001b[1;33m:\u001b[0m\u001b[1;33m\u001b[0m\u001b[1;33m\u001b[0m\u001b[0m\n\u001b[0;32m   2649\u001b[0m             \u001b[1;32mreturn\u001b[0m\u001b[1;33m\u001b[0m\u001b[1;33m\u001b[0m\u001b[0m\n",
      "\u001b[1;32mc:\\users\\longl\\appdata\\local\\programs\\python\\python39\\lib\\turtle.py\u001b[0m in \u001b[0;36m_incrementudc\u001b[1;34m(self)\u001b[0m\n\u001b[0;32m   1291\u001b[0m         \u001b[1;32mif\u001b[0m \u001b[1;32mnot\u001b[0m \u001b[0mTurtleScreen\u001b[0m\u001b[1;33m.\u001b[0m\u001b[0m_RUNNING\u001b[0m\u001b[1;33m:\u001b[0m\u001b[1;33m\u001b[0m\u001b[1;33m\u001b[0m\u001b[0m\n\u001b[0;32m   1292\u001b[0m             \u001b[0mTurtleScreen\u001b[0m\u001b[1;33m.\u001b[0m\u001b[0m_RUNNING\u001b[0m \u001b[1;33m=\u001b[0m \u001b[1;32mTrue\u001b[0m\u001b[1;33m\u001b[0m\u001b[1;33m\u001b[0m\u001b[0m\n\u001b[1;32m-> 1293\u001b[1;33m             \u001b[1;32mraise\u001b[0m \u001b[0mTerminator\u001b[0m\u001b[1;33m\u001b[0m\u001b[1;33m\u001b[0m\u001b[0m\n\u001b[0m\u001b[0;32m   1294\u001b[0m         \u001b[1;32mif\u001b[0m \u001b[0mself\u001b[0m\u001b[1;33m.\u001b[0m\u001b[0m_tracing\u001b[0m \u001b[1;33m>\u001b[0m \u001b[1;36m0\u001b[0m\u001b[1;33m:\u001b[0m\u001b[1;33m\u001b[0m\u001b[1;33m\u001b[0m\u001b[0m\n\u001b[0;32m   1295\u001b[0m             \u001b[0mself\u001b[0m\u001b[1;33m.\u001b[0m\u001b[0m_updatecounter\u001b[0m \u001b[1;33m+=\u001b[0m \u001b[1;36m1\u001b[0m\u001b[1;33m\u001b[0m\u001b[1;33m\u001b[0m\u001b[0m\n",
      "\u001b[1;31mTerminator\u001b[0m: "
     ]
    }
   ],
   "source": [
    "# Nhập vào chiều cao kim tự tháp\n",
    "import turtle\n",
    "\n",
    "height = int(input(\"Nhập chiều cao của kim tự tháp:\"))\n",
    "pen = turtle.Turtle()\n",
    "count = 1\n",
    "\n",
    "while count <= height:\n",
    "    pen.circle(-count * 20, steps=3)\n",
    "    # count += 1\n",
    "    \n",
    "turtle.done()"
   ]
  },
  {
   "cell_type": "markdown",
   "id": "7cffe179",
   "metadata": {},
   "source": [
    "## for kết hợp với hàm range()"
   ]
  },
  {
   "cell_type": "markdown",
   "id": "9e50bbfc",
   "metadata": {},
   "source": [
    "### Trường hợp 1 tham số"
   ]
  },
  {
   "cell_type": "code",
   "execution_count": 7,
   "id": "8bb5922d",
   "metadata": {},
   "outputs": [
    {
     "name": "stdout",
     "output_type": "stream",
     "text": [
      "0\n",
      "1\n",
      "2\n",
      "3\n",
      "4\n",
      "5\n",
      "6\n",
      "7\n",
      "8\n",
      "9\n",
      "10\n",
      "----------------------------\n",
      "0\n",
      "1\n",
      "2\n",
      "3\n",
      "4\n",
      "5\n",
      "6\n",
      "7\n",
      "8\n",
      "9\n",
      "10\n"
     ]
    }
   ],
   "source": [
    "count = 0\n",
    "while count <= 10:\n",
    "    print(count)\n",
    "    count += 1\n",
    "print('----------------------------')\n",
    "for i in range(11):\n",
    "    print(i)"
   ]
  },
  {
   "cell_type": "markdown",
   "id": "d2f29572",
   "metadata": {},
   "source": [
    "### Ví dụ: In các số lẻ từ 0 đến 100"
   ]
  },
  {
   "cell_type": "code",
   "execution_count": 10,
   "id": "6b949e6c",
   "metadata": {},
   "outputs": [
    {
     "name": "stdout",
     "output_type": "stream",
     "text": [
      "1\n",
      "3\n",
      "5\n",
      "7\n",
      "9\n",
      "11\n",
      "13\n",
      "15\n",
      "17\n",
      "19\n",
      "21\n",
      "23\n",
      "25\n",
      "27\n",
      "29\n",
      "31\n",
      "33\n",
      "35\n",
      "37\n",
      "39\n",
      "41\n",
      "43\n",
      "45\n",
      "47\n",
      "49\n",
      "51\n",
      "53\n",
      "55\n",
      "57\n",
      "59\n",
      "61\n",
      "63\n",
      "65\n",
      "67\n",
      "69\n",
      "71\n",
      "73\n",
      "75\n",
      "77\n",
      "79\n",
      "81\n",
      "83\n",
      "85\n",
      "87\n",
      "89\n",
      "91\n",
      "93\n",
      "95\n",
      "97\n",
      "99\n"
     ]
    }
   ],
   "source": [
    "for i in range(101):\n",
    "    if i % 2:\n",
    "        print(i)"
   ]
  },
  {
   "cell_type": "markdown",
   "id": "0aeea7dd",
   "metadata": {},
   "source": [
    "### Trường hợp 2 tham số"
   ]
  },
  {
   "cell_type": "code",
   "execution_count": 11,
   "id": "61141450",
   "metadata": {},
   "outputs": [
    {
     "name": "stdout",
     "output_type": "stream",
     "text": [
      "50\n",
      "52\n",
      "54\n",
      "56\n",
      "58\n",
      "60\n",
      "62\n",
      "64\n",
      "66\n",
      "68\n",
      "70\n",
      "72\n",
      "74\n",
      "76\n",
      "78\n",
      "80\n",
      "82\n",
      "84\n",
      "86\n",
      "88\n",
      "90\n",
      "92\n",
      "94\n",
      "96\n",
      "98\n",
      "100\n"
     ]
    }
   ],
   "source": [
    "for i in range(50, 101):\n",
    "    if not i % 2:\n",
    "        print(i)"
   ]
  },
  {
   "cell_type": "markdown",
   "id": "5ec00bff",
   "metadata": {},
   "source": [
    "### Ví dụ: In các số chia hết cho 7 từ a đến b"
   ]
  },
  {
   "cell_type": "code",
   "execution_count": 13,
   "id": "a3bcad28",
   "metadata": {},
   "outputs": [
    {
     "name": "stdout",
     "output_type": "stream",
     "text": [
      "Nhập số thứ nhất: 70\n",
      "Nhập số thứ hai: 101\n",
      "70\n",
      "77\n",
      "84\n",
      "91\n",
      "98\n"
     ]
    }
   ],
   "source": [
    "# Nhập vào 2 số a, b và in ra các số chia hết cho 7 trong đoạn [a...b]\n",
    "a, b = int(input(\"Nhập số thứ nhất: \")), int(input(\"Nhập số thứ hai: \"))\n",
    "for i in range(a, b+1):\n",
    "    if not i % 7:\n",
    "        print(i)"
   ]
  },
  {
   "cell_type": "markdown",
   "id": "221f1628",
   "metadata": {},
   "source": [
    "### Trường hợp 3 tham số"
   ]
  },
  {
   "cell_type": "code",
   "execution_count": 16,
   "id": "6eb884e2",
   "metadata": {},
   "outputs": [
    {
     "name": "stdout",
     "output_type": "stream",
     "text": [
      "100\n",
      "95\n",
      "90\n",
      "85\n",
      "80\n",
      "75\n",
      "70\n",
      "65\n",
      "60\n",
      "55\n",
      "50\n",
      "45\n",
      "40\n",
      "35\n",
      "30\n",
      "25\n",
      "20\n",
      "15\n",
      "10\n",
      "5\n",
      "0\n"
     ]
    }
   ],
   "source": [
    "for i in range(100, -1, -5):\n",
    "    print(i)"
   ]
  },
  {
   "cell_type": "markdown",
   "id": "093f915d",
   "metadata": {},
   "source": [
    "### Ví dụ: Biểu diễn cấp số cộng"
   ]
  },
  {
   "cell_type": "code",
   "execution_count": 18,
   "id": "4a1fb3e1",
   "metadata": {},
   "outputs": [
    {
     "name": "stdout",
     "output_type": "stream",
     "text": [
      "5\n",
      "9\n",
      "13\n",
      "17\n",
      "21\n",
      "25\n",
      "29\n",
      "33\n",
      "37\n",
      "41\n"
     ]
    }
   ],
   "source": [
    "# Viết chương trình nhập vào số hạng đầu(n0) và công sai(d) của một cấp số cộng.\n",
    "# In ra 10 số hạng tiếp theo của cấp số cộng đó.\n",
    "\n",
    "n = 1\n",
    "d = 4\n",
    "\n",
    "for i in range(n + d, n + 10 * d + 1, d):\n",
    "    print(i)"
   ]
  },
  {
   "cell_type": "markdown",
   "id": "0085c89a",
   "metadata": {},
   "source": [
    "## Lặp qua một chuỗi"
   ]
  },
  {
   "cell_type": "code",
   "execution_count": 19,
   "id": "f4950fb7",
   "metadata": {},
   "outputs": [
    {
     "name": "stdout",
     "output_type": "stream",
     "text": [
      "T\n",
      "h\n",
      "i\n",
      "s\n",
      " \n",
      "i\n",
      "s\n",
      " \n",
      "a\n",
      " \n",
      "n\n",
      "i\n",
      "c\n",
      "e\n",
      " \n",
      "d\n",
      "a\n",
      "y\n",
      "!\n"
     ]
    }
   ],
   "source": [
    "content = \"This is a nice day!\"\n",
    "for c in content:\n",
    "    print(c)"
   ]
  },
  {
   "cell_type": "markdown",
   "id": "5c9c265b",
   "metadata": {},
   "source": [
    "### Ví dụ: Đếm số lượng nguyên âm trong chuỗi"
   ]
  },
  {
   "cell_type": "code",
   "execution_count": 21,
   "id": "cf5a8c02",
   "metadata": {},
   "outputs": [
    {
     "name": "stdout",
     "output_type": "stream",
     "text": [
      "Tổng số lượng nguyên âm là 6.\n"
     ]
    }
   ],
   "source": [
    "# Viết một chương trình để đếm số lần xuất hiện các nguyên âm (a, e, i, o, u) trong một chuỗi cho trước(content)\n",
    "total_vowel = 0\n",
    "\n",
    "for c in content:\n",
    "    if c in \"aeiuo\":\n",
    "        total_vowel += 1\n",
    "        \n",
    "print(f\"Tổng số lượng nguyên âm là {total_vowel}.\")"
   ]
  },
  {
   "cell_type": "markdown",
   "id": "5b80ab4c",
   "metadata": {},
   "source": [
    "## Lặp qua một danh sách chuỗi"
   ]
  },
  {
   "cell_type": "code",
   "execution_count": 25,
   "id": "4240bd73",
   "metadata": {},
   "outputs": [
    {
     "name": "stdout",
     "output_type": "stream",
     "text": [
      "['Long', 'Huy', 'Khanh', 'Toan', 'Giang', 'Chuan', 'Hoi', 'Truong']\n",
      "Long\n",
      "Huy\n",
      "Khanh\n",
      "Toan\n",
      "Giang\n",
      "Chuan\n",
      "Hoi\n",
      "Truong\n"
     ]
    }
   ],
   "source": [
    "names = \"Long Huy Khanh Toan Giang Chuan Hoi Truong\"\n",
    "name_list = names.split()\n",
    "\n",
    "print(name_list)\n",
    "\n",
    "for member in name_list:\n",
    "    print(member)"
   ]
  },
  {
   "cell_type": "markdown",
   "id": "f27f0ff0",
   "metadata": {},
   "source": [
    "### Ví dụ: Tìm chuỗi dài nhất"
   ]
  },
  {
   "cell_type": "code",
   "execution_count": 26,
   "id": "98acbc6c",
   "metadata": {},
   "outputs": [
    {
     "name": "stdout",
     "output_type": "stream",
     "text": [
      "Tên dài nhất có 6 ký tự\n"
     ]
    }
   ],
   "source": [
    "# Duyệt qua tập hợp name_list và cho biết tên dài nhất có bao nhiêu ký tự\n",
    "max_len = 0\n",
    "\n",
    "for member in name_list:\n",
    "    if len(member) > max_len:\n",
    "        max_len = len(member)\n",
    "        65tgfffffffffffffffffffffffffff\n",
    "print(f\"Tên dài nhất có {max_len} ký tự\")"
   ]
  },
  {
   "cell_type": "markdown",
   "id": "bfb31ded",
   "metadata": {},
   "source": [
    "## Vòng lặp lồng nhau"
   ]
  },
  {
   "cell_type": "code",
   "execution_count": 28,
   "id": "fb208519",
   "metadata": {},
   "outputs": [
    {
     "name": "stdout",
     "output_type": "stream",
     "text": [
      "blue shirt\n",
      "black shirt\n",
      "yellow shirt\n",
      "blue pants\n",
      "black pants\n",
      "yellow pants\n",
      "blue sweater\n",
      "black sweater\n",
      "yellow sweater\n"
     ]
    }
   ],
   "source": [
    "clothes = [\"shirt\", \"pants\", \"sweater\"]\n",
    "colors = [\"blue\", \"black\", \"yellow\"]\n",
    "\n",
    "for item in clothes:\n",
    "    for color in colors:\n",
    "        print(f\"{color} {item}\")"
   ]
  }
 ],
 "metadata": {
  "kernelspec": {
   "display_name": "Python 3 (ipykernel)",
   "language": "python",
   "name": "python3"
  },
  "language_info": {
   "codemirror_mode": {
    "name": "ipython",
    "version": 3
   },
   "file_extension": ".py",
   "mimetype": "text/x-python",
   "name": "python",
   "nbconvert_exporter": "python",
   "pygments_lexer": "ipython3",
   "version": "3.9.6"
  }
 },
 "nbformat": 4,
 "nbformat_minor": 5
}
